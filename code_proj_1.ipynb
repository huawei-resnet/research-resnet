{
 "cells": [
  {
   "cell_type": "markdown",
   "metadata": {},
   "outputs": [],
   "source": [
    "# ResNet && CIFAR10/CIFAR100\n",
    "We test ResNet classifier.\n",
    "First init some basic environment."
   ]
  },
  {
   "cell_type": "code",
   "metadata": {},
   "outputs": [],
   "source": [
    "import matplotlib.pyplot as plt\n",
    "\n",
    "%matplotlib inline\n",
    "plt.rcParams['figure.figsize'] = (10.0, 8.0) # set default size of plots\n",
    "plt.rcParams['image.interpolation'] = 'nearest'\n",
    "plt.rcParams['image.cmap'] = 'gray'\n",
    "\n",
    "%load_ext autoreload\n",
    "%autoreload 2"
   ]
  },
  {
   "cell_type": "markdown",
   "metadata": {},
   "outputs": [],
   "source": [
    "One time installation of needed lib from requirement.txt"
   ]
  },
  {
   "cell_type": "code",
   "execution_count": 20,
   "metadata": {},
   "outputs": [
    {
     "name": "stdout",
     "output_type": "stream",
     "text": "Processing /Users/almashell/Library/Caches/pip/wheels/e1/03/fb/1c212c2f20905cdf97fe39022946cf16b8e66ed754a6663400/torchnet-0.0.4-cp37-none-any.whl\nCollecting tqdm==4.40.1\n  Using cached https://files.pythonhosted.org/packages/71/b0/6d63e33dbf5935dccd334ee2b83cc4d3828817de6faaa3a3f7f5b8cc5141/tqdm-4.40.1-py2.py3-none-any.whl\nCollecting six\n  Using cached https://files.pythonhosted.org/packages/65/26/32b8464df2a97e6dd1b656ed26b2c194606c16fe163c695a992b36c11cdf/six-1.13.0-py2.py3-none-any.whl\nProcessing /Users/almashell/Library/Caches/pip/wheels/70/19/a7/6d589ed967f4dfefd33bc166d081257bd4ed0cb618dccfd62a/visdom-0.1.8.9-cp37-none-any.whl\nCollecting torch\n  Using cached https://files.pythonhosted.org/packages/7e/94/0ed9f7899aa0f5e7ff753a3a2b6944c146eef3f4cd51c59ab07c4575992b/torch-1.3.1-cp37-none-macosx_10_7_x86_64.whl\nProcessing /Users/almashell/Library/Caches/pip/wheels/b1/c3/d6/9a1cc8f3a99a0fc1124cae20153f36af59a6e683daca0a0814/torchfile-0.1.0-cp37-none-any.whl\nCollecting jsonpatch\n  Using cached https://files.pythonhosted.org/packages/86/7e/035d19a73306278673039f0805b863be8798057cc1b4008b9c8c7d1d32a3/jsonpatch-1.24-py2.py3-none-any.whl\nCollecting websocket-client\n  Using cached https://files.pythonhosted.org/packages/29/19/44753eab1fdb50770ac69605527e8859468f3c0fd7dc5a76dd9c4dbd7906/websocket_client-0.56.0-py2.py3-none-any.whl\nCollecting pillow\n  Using cached https://files.pythonhosted.org/packages/85/28/2c72ba965b52884a0bd71e419761fc162763dc2e5d9bec2f3b1949f7272a/Pillow-6.2.1-cp37-cp37m-macosx_10_6_intel.whl\nCollecting scipy\n  Using cached https://files.pythonhosted.org/packages/43/df/3f85a3a762e5dd8d593614288c1f86a5dfbb8b20071192e850d1a9934e7d/scipy-1.3.3-cp37-cp37m-macosx_10_6_intel.whl\nCollecting numpy>=1.8\n  Using cached https://files.pythonhosted.org/packages/60/9a/a6b3168f2194fb468dcc4cf54c8344d1f514935006c3347ede198e968cb0/numpy-1.17.4-cp37-cp37m-macosx_10_9_x86_64.whl\nCollecting pyzmq\n  Using cached https://files.pythonhosted.org/packages/71/0e/ee7685d1340a4cc29fb64d164b5c5667122b2ec1a94cfc923adeef378116/pyzmq-18.1.1-cp37-cp37m-macosx_10_9_x86_64.whl\nProcessing /Users/almashell/Library/Caches/pip/wheels/84/bf/40/2f6ef700f48401ca40e5e3dd7d0e3c0a90e064897b7fe5fc08/tornado-6.0.3-cp37-cp37m-macosx_10_14_x86_64.whl\nRequirement already satisfied: requests in /Users/almashell/.platformio/penv/lib/python3.7/site-packages (from visdom->torchnet==0.0.4->-r requirements.txt (line 1)) (2.22.0)\nCollecting jsonpointer>=1.9\n  Using cached https://files.pythonhosted.org/packages/18/b0/a80d29577c08eea401659254dfaed87f1af45272899e1812d7e01b679bc5/jsonpointer-2.0-py2.py3-none-any.whl\nRequirement already satisfied: chardet<3.1.0,>=3.0.2 in /Users/almashell/.platformio/penv/lib/python3.7/site-packages (from requests->visdom->torchnet==0.0.4->-r requirements.txt (line 1)) (3.0.4)\nRequirement already satisfied: certifi>=2017.4.17 in /Users/almashell/.platformio/penv/lib/python3.7/site-packages (from requests->visdom->torchnet==0.0.4->-r requirements.txt (line 1)) (2019.9.11)\nRequirement already satisfied: idna<2.9,>=2.5 in /Users/almashell/.platformio/penv/lib/python3.7/site-packages (from requests->visdom->torchnet==0.0.4->-r requirements.txt (line 1)) (2.8)\nRequirement already satisfied: urllib3!=1.25.0,!=1.25.1,<1.26,>=1.21.1 in /Users/almashell/.platformio/penv/lib/python3.7/site-packages (from requests->visdom->torchnet==0.0.4->-r requirements.txt (line 1)) (1.25.7)\nInstalling collected packages: six, torchfile, jsonpointer, jsonpatch, websocket-client, pillow, numpy, scipy, pyzmq, tornado, visdom, torch, torchnet, tqdm\nSuccessfully installed jsonpatch-1.24 jsonpointer-2.0 numpy-1.17.4 pillow-6.2.1 pyzmq-18.1.1 scipy-1.3.3 six-1.13.0 torch-1.3.1 torchfile-0.1.0 torchnet-0.0.4 tornado-6.0.3 tqdm-4.40.1 visdom-0.1.8.9 websocket-client-0.56.0\n"
    }
   ],
   "source": [
    "!pip install -r requirements.txt\n",
    "!mkdir data"
   ]
  },
  {
   "cell_type": "markdown",
   "metadata": {},
   "outputs": [],
   "source": [
    "# resnet20/56/110 model with CIFAR10 / CIFAR100\n"
   ]
  },
  {
   "cell_type": "code",
   "metadata": {},
   "outputs": [],
   "source": [
    "import torch.optim as optim\n",
    "import torch.nn as nn\n",
    "import time\n",
    "from tnt_solver_ import *\n",
    "from resnet_ import resnet20\n",
    "from dataset_dowloader_ import *\n",
    "\n",
    "cifar10_dowloader()\n",
    "cifar100_dowloader()\n",
    "model = resnet20()\n",
    "print(model)"
   ]
  },
  {
   "cell_type": "markdown",
   "metadata": {},
   "outputs": [],
   "source": [
    "# Start learning \n",
    "\n",
    "## TODO\n",
    "+ Stohastic gradient decrease? May be adam?\n",
    "+ lr?\n",
    "+ epoch?"
   ]
  },
  {
   "cell_type": "code",
   "metadata": {},
   "outputs": [],
   "source": [
    "%%time\n",
    "import torch.optim as optim\n",
    "import torch.nn.functional as F\n",
    "opt = optim.SGD(model.parameters(), lr=1e-1, momentum=0.9, weight_decay=1e-4, nesterov=False)\n",
    "loss_fn = F.cross_entropy\n",
    "\n",
    "lr_scheduler= optim.lr_scheduler.MultiStepLR(opt, milestones=[91, 137], gamma=0.1)\n",
    "history = main(model, opt, epoch=180, loss_fn=loss_fn, lr_scheduler=lr_scheduler)"
   ]
  },
  {
   "cell_type": "code",
   "metadata": {},
   "outputs": [],
   "source": [
    "plot_history(history)"
   ]
  },
  {
   "cell_type": "markdown",
   "metadata": {},
   "outputs": [],
   "source": [
    "# GREAT TODO\n",
    "+ Test each modification 3 times for the average results\n",
    "+ Solve some of todos above\n",
    "+ Play with lr, epochs, STD\n",
    "+ Graphics\n",
    "+ Think about the best way to analyse all results\n",
    "+ May be to play with VGG?\n",
    "+ Why with classic startup options there is over learning after 90th epoch???\n",
    "\n",
    "Control each model learning startup to re-define all weights. (maybe) "
   ]
  }
 ],
 "metadata": {
  "kernelspec": {
   "display_name": "Pytorch-1.0.0",
   "language": "python",
   "name": "pytorch-1.0.0"
  },
  "language_info": {
   "codemirror_mode": {
    "name": "ipython",
    "version": 3
   },
   "file_extension": ".py",
   "mimetype": "text/x-python",
   "name": "python",
   "nbconvert_exporter": "python",
   "pygments_lexer": "ipython3",
   "version": "3.7.4"
  }
 },
 "nbformat": 4,
 "nbformat_minor": 2
}