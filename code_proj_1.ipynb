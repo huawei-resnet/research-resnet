{
 "cells": [
  {
   "cell_type": "markdown",
   "metadata": {},
   "source": [
    "# Coding Project: Deep Learning Basics\n",
    "\n",
    "* ### Based on the paper:K. He, X. Zhang, S. Ren and J. Sun, “Deep Residual Learning for Image Recognition,” IEEE Conference on Computer Vision and Pattern Recognition (CVPR),2016.\n",
    "\n",
    "* ### Assignment\n",
    "\n",
    "  1. Get familiar with our coding environment (on cloud)!\n",
    "  2. Find a codebase of this paper, download the CIFAR10 and CIFAR100 datasets\n",
    "  3. Run the basic code on the server, with deep residual networks with 20, 56 and 110 layers, and obtain results (3-time average) on both CIFAR10 and CIFAR100\n",
    "  4. Finish the required task and one of the optional tasks (see the following slides) –of course, you can do more than one optional tasks if you wish (bonus points)\n",
    "  5. If you have more ideas, please specify a new task by yourself (bonus points)\n",
    "  6. Remember: integrate your results into your reading report\n",
    "  7. Submit your report(as PDF) and code (as README doc) on the iLearningX: https://ilearningx-ru.huaweiuniversity.com/courses/course-v1:HuaweiX+WHURU001+Self-paced/courseware/8825cc7815fa444696520baaf31fa2b0/77b7babd6ae34949bc209d7a8f0ba409/(8)  \n",
    "\n",
    "Date assigned: Oct. 15, 2019;    Date Due: Dec 31, 2019"
   ]
  },
  {
   "cell_type": "markdown",
   "metadata": {},
   "source": [
    "# Required Task\n",
    "\n",
    "* The basic training and testing pipeline\n",
    "    * Run the network with 20, 56 and 110 layers on CIFAR10 and CIFAR100\n",
    "    * Pay attention to the hyper-parameters (learning rate, epochs, etc.)\n",
    "* Questions that should be answered in the report\n",
    "    * Paste complete training and testing curves and the final accuracy\n",
    "    * How are your results compared to the paper? Why better or worse?\n",
    "    * How is performance changing with the number of network layers? Why?\n",
    "    * Any significant features that can be recognized in the curves?\n",
    "    * What is the major difference between CIFAR10 and CIFAR100 results?"
   ]
  },
  {
   "cell_type": "markdown",
   "metadata": {},
   "source": [
    "## Preparation\n",
    "One time installation of required libraries from requirement.txt and creating data path"
   ]
  },
  {
   "cell_type": "code",
   "execution_count": null,
   "metadata": {},
   "outputs": [],
   "source": [
    "!pip install -r requirements.txt\n",
    "!mkdir data"
   ]
  },
  {
   "cell_type": "markdown",
   "metadata": {},
   "source": [
    "Downloading CIFAR10 and CIFAR100 datasets"
   ]
  },
  {
   "cell_type": "code",
   "execution_count": null,
   "metadata": {},
   "outputs": [],
   "source": [
    "from dataset.dataset_dowloader_ import *\n",
    "\n",
    "cifar10_dowloader()\n",
    "cifar100_dowloader()\n"
   ]
  },
  {
   "cell_type": "markdown",
   "metadata": {},
   "source": [
    "## The basic training and testing pipeline\n",
    "\n",
    "* `class_values = [10, 100]` - define CIFAR10 & CIFAR100 datasets markers\n",
    "* `layer_values = [[3, 3, 3], [9, 9, 9], [18, 18, 18]]` - define ResNet20 & ResNet56 & ResNet110 models\n",
    "* `history_main_task = []` - define train/validation logs' container\n",
    "* `auto_resnet(layer_j, class_i, 1, 180, history_main_task)`:\n",
    "    * `layer_j` - iterate over ResNet20 & ResNet56 & ResNet110\n",
    "    * `class_i` - iterate over CIFAR10 & CIFAR100\n",
    "    * `1` - learning rate multiplier (base learning rate is 1*0.1)\n",
    "    * `180` - number of epochs"
   ]
  },
  {
   "cell_type": "code",
   "execution_count": null,
   "metadata": {},
   "outputs": [],
   "source": [
    "%%time\n",
    "from auto_resnet import * \n",
    "\n",
    "class_values = [10, 100]\n",
    "layer_values = [[3, 3, 3], [9, 9, 9], [18, 18, 18]] # 20, 56, 110\n",
    "history_main_task = []\n",
    "\n",
    "for class_i in class_values:\n",
    "    for layer_j in layer_values:\n",
    "        auto_resnet(layer_j, class_i, 1, 180, history_main_task)"
   ]
  },
  {
   "cell_type": "markdown",
   "metadata": {},
   "source": [
    "## Plot results"
   ]
  },
  {
   "cell_type": "code",
   "execution_count": null,
   "metadata": {},
   "outputs": [],
   "source": [
    "import matplotlib.pyplot as plt\n",
    "\n",
    "%matplotlib inline\n",
    "plt.rcParams['figure.figsize'] = (10.0, 8.0) # set default size of plots\n",
    "plt.rcParams['image.interpolation'] = 'nearest'\n",
    "plt.rcParams['image.cmap'] = 'gray'\n",
    "\n",
    "%load_ext autoreload\n",
    "%autoreload 2\n",
    "\n",
    "legend = ['train_r20_c10', 'train_r56_c10', 'train_r110_c10', 'train_r20_c100', 'train_r56_c100', 'train_r110_c100']\n",
    "\n",
    "plt_different_history(history_main_task, legend)"
   ]
  },
  {
   "cell_type": "code",
   "execution_count": null,
   "metadata": {},
   "outputs": [],
   "source": []
  }
 ],
 "metadata": {
  "kernelspec": {
   "display_name": "Pytorch-1.0.0",
   "language": "python",
   "name": "pytorch-1.0.0"
  },
  "language_info": {
   "codemirror_mode": {
    "name": "ipython",
    "version": 3
   },
   "file_extension": ".py",
   "mimetype": "text/x-python",
   "name": "python",
   "nbconvert_exporter": "python",
   "pygments_lexer": "ipython3",
   "version": "3.6.4"
  },
  "pycharm": {
   "stem_cell": {
    "cell_type": "raw",
    "metadata": {
     "collapsed": false
    },
    "source": []
   }
  }
 },
 "nbformat": 4,
 "nbformat_minor": 2
}
