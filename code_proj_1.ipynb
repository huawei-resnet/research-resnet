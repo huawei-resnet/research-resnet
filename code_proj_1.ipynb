{
 "cells": [
  {
   "cell_type": "markdown",
   "metadata": {},
   "source": [
    "# Coding Project: Deep Learning Basics\n",
    "\n",
    "* ### Based on the paper:K. He, X. Zhang, S. Ren and J. Sun, “Deep Residual Learning for Image Recognition,” IEEE Conference on Computer Vision and Pattern Recognition (CVPR),2016.\n",
    "\n",
    "* ### Assignment\n",
    "\n",
    "  1. Get familiar with our coding environment (on cloud)!\n",
    "  2. Find a codebase of this paper, download the CIFAR10 and CIFAR100 datasets\n",
    "  3. Run the basic code on the server, with deep residual networks with 20, 56 and 110 layers, and obtain results (3-time average) on both CIFAR10 and CIFAR100\n",
    "  4. Finish the required task and one of the optional tasks (see the following slides) –of course, you can do more than one optional tasks if you wish (bonus points)\n",
    "  5. If you have more ideas, please specify a new task by yourself (bonus points)\n",
    "  6. Remember: integrate your results into your reading report\n",
    "  7. Submit your report(as PDF) and code (as README doc) on the iLearningX: https://ilearningx-ru.huaweiuniversity.com/courses/course-v1:HuaweiX+WHURU001+Self-paced/courseware/8825cc7815fa444696520baaf31fa2b0/77b7babd6ae34949bc209d7a8f0ba409/(8)  \n",
    "\n",
    "Date assigned: Oct. 15, 2019;    Date Due: Dec 31, 2019"
   ]
  },
  {
   "cell_type": "markdown",
   "metadata": {},
   "source": [
    "# Required Task\n",
    "\n",
    "* The basic training and testing pipeline\n",
    "    * Run the network with 20, 56 and 110 layers on CIFAR10 and CIFAR100\n",
    "    * Pay attention to the hyper-parameters (learning rate, epochs, etc.)\n",
    "* Questions that should be answered in the report\n",
    "    * Paste complete training and testing curves and the final accuracy\n",
    "    * How are your results compared to the paper? Why better or worse?\n",
    "    * How is performance changing with the number of network layers? Why?\n",
    "    * Any significant features that can be recognized in the curves?\n",
    "    * What is the major difference between CIFAR10 and CIFAR100 results?"
   ]
  },
  {
   "cell_type": "markdown",
   "metadata": {},
   "source": [
    "## Preparation\n",
    "One time installation of required libraries from requirement.txt and creating data path"
   ]
  },
  {
   "cell_type": "code",
   "execution_count": 1,
   "metadata": {},
   "outputs": [
    {
     "name": "stdout",
     "output_type": "stream",
     "text": [
      "Collecting torchnet==0.0.4 (from -r requirements.txt (line 1))\n",
      "  Downloading http://repo.myhuaweicloud.com/repository/pypi/packages/b7/b2/d7f70a85d3f6b0365517782632f150e3bbc2fb8e998cd69e27deba599aae/torchnet-0.0.4.tar.gz\n",
      "Collecting tqdm==4.40.1 (from -r requirements.txt (line 2))\n",
      "  Downloading http://repo.myhuaweicloud.com/repository/pypi/packages/71/b0/6d63e33dbf5935dccd334ee2b83cc4d3828817de6faaa3a3f7f5b8cc5141/tqdm-4.40.1-py2.py3-none-any.whl (55kB)\n",
      "\u001b[K    100% |████████████████████████████████| 61kB 67.9MB/s ta 0:00:01\n",
      "\u001b[?25hRequirement already satisfied: torch in /home/ma-user/anaconda3/envs/Pytorch-1.0.0/lib/python3.6/site-packages (from torchnet==0.0.4->-r requirements.txt (line 1))\n",
      "Requirement already satisfied: six in /home/ma-user/anaconda3/envs/Pytorch-1.0.0/lib/python3.6/site-packages (from torchnet==0.0.4->-r requirements.txt (line 1))\n",
      "Collecting visdom (from torchnet==0.0.4->-r requirements.txt (line 1))\n",
      "  Downloading http://repo.myhuaweicloud.com/repository/pypi/packages/c9/75/e078f5a2e1df7e0d3044749089fc2823e62d029cc027ed8ae5d71fafcbdc/visdom-0.1.8.9.tar.gz (676kB)\n",
      "\u001b[K    100% |████████████████████████████████| 686kB 102.7MB/s ta 0:00:01\n",
      "\u001b[?25hRequirement already satisfied: numpy>=1.8 in /home/ma-user/anaconda3/envs/Pytorch-1.0.0/lib/python3.6/site-packages (from visdom->torchnet==0.0.4->-r requirements.txt (line 1))\n",
      "Requirement already satisfied: scipy in /home/ma-user/anaconda3/envs/Pytorch-1.0.0/lib/python3.6/site-packages (from visdom->torchnet==0.0.4->-r requirements.txt (line 1))\n",
      "Requirement already satisfied: requests in /home/ma-user/anaconda3/envs/Pytorch-1.0.0/lib/python3.6/site-packages (from visdom->torchnet==0.0.4->-r requirements.txt (line 1))\n",
      "Requirement already satisfied: tornado in /home/ma-user/anaconda3/envs/Pytorch-1.0.0/lib/python3.6/site-packages (from visdom->torchnet==0.0.4->-r requirements.txt (line 1))\n",
      "Requirement already satisfied: pyzmq in /home/ma-user/anaconda3/envs/Pytorch-1.0.0/lib/python3.6/site-packages (from visdom->torchnet==0.0.4->-r requirements.txt (line 1))\n",
      "Collecting jsonpatch (from visdom->torchnet==0.0.4->-r requirements.txt (line 1))\n",
      "  Downloading http://repo.myhuaweicloud.com/repository/pypi/packages/86/7e/035d19a73306278673039f0805b863be8798057cc1b4008b9c8c7d1d32a3/jsonpatch-1.24-py2.py3-none-any.whl\n",
      "Collecting torchfile (from visdom->torchnet==0.0.4->-r requirements.txt (line 1))\n",
      "  Downloading http://repo.myhuaweicloud.com/repository/pypi/packages/91/af/5b305f86f2d218091af657ddb53f984ecbd9518ca9fe8ef4103a007252c9/torchfile-0.1.0.tar.gz\n",
      "Collecting websocket-client (from visdom->torchnet==0.0.4->-r requirements.txt (line 1))\n",
      "  Downloading http://repo.myhuaweicloud.com/repository/pypi/packages/4c/5f/f61b420143ed1c8dc69f9eaec5ff1ac36109d52c80de49d66e0c36c3dfdf/websocket_client-0.57.0-py2.py3-none-any.whl (200kB)\n",
      "\u001b[K    100% |████████████████████████████████| 204kB 102.1MB/s ta 0:00:01\n",
      "\u001b[?25hRequirement already satisfied: pillow in /home/ma-user/anaconda3/envs/Pytorch-1.0.0/lib/python3.6/site-packages (from visdom->torchnet==0.0.4->-r requirements.txt (line 1))\n",
      "Requirement already satisfied: chardet<3.1.0,>=3.0.2 in /home/ma-user/anaconda3/envs/Pytorch-1.0.0/lib/python3.6/site-packages (from requests->visdom->torchnet==0.0.4->-r requirements.txt (line 1))\n",
      "Requirement already satisfied: idna<2.7,>=2.5 in /home/ma-user/anaconda3/envs/Pytorch-1.0.0/lib/python3.6/site-packages (from requests->visdom->torchnet==0.0.4->-r requirements.txt (line 1))\n",
      "Requirement already satisfied: urllib3<1.23,>=1.21.1 in /home/ma-user/anaconda3/envs/Pytorch-1.0.0/lib/python3.6/site-packages (from requests->visdom->torchnet==0.0.4->-r requirements.txt (line 1))\n",
      "Requirement already satisfied: certifi>=2017.4.17 in /home/ma-user/anaconda3/envs/Pytorch-1.0.0/lib/python3.6/site-packages (from requests->visdom->torchnet==0.0.4->-r requirements.txt (line 1))\n",
      "Collecting jsonpointer>=1.9 (from jsonpatch->visdom->torchnet==0.0.4->-r requirements.txt (line 1))\n",
      "  Downloading http://repo.myhuaweicloud.com/repository/pypi/packages/18/b0/a80d29577c08eea401659254dfaed87f1af45272899e1812d7e01b679bc5/jsonpointer-2.0-py2.py3-none-any.whl\n",
      "Building wheels for collected packages: torchnet, visdom, torchfile\n",
      "  Running setup.py bdist_wheel for torchnet ... \u001b[?25ldone\n",
      "\u001b[?25h  Stored in directory: /home/ma-user/.cache/pip/wheels/54/7e/85/0e5071d02c5d0cf37cfd9fd437b71a2281fb71b1f89197edc5\n",
      "  Running setup.py bdist_wheel for visdom ... \u001b[?25ldone\n",
      "\u001b[?25h  Stored in directory: /home/ma-user/.cache/pip/wheels/97/83/ee/4e0ef1aaffc3f1a81caa2bef44df43a1dd42ebcd3fbe99096e\n",
      "  Running setup.py bdist_wheel for torchfile ... \u001b[?25ldone\n",
      "\u001b[?25h  Stored in directory: /home/ma-user/.cache/pip/wheels/3f/13/e6/01b1c6b1d3a90163bf6a9efaec1ca4a95f519220a93aa7ce81\n",
      "Successfully built torchnet visdom torchfile\n",
      "Installing collected packages: jsonpointer, jsonpatch, torchfile, websocket-client, visdom, torchnet, tqdm\n",
      "  Found existing installation: tqdm 4.28.1\n",
      "    Uninstalling tqdm-4.28.1:\n",
      "      Successfully uninstalled tqdm-4.28.1\n",
      "Successfully installed jsonpatch-1.24 jsonpointer-2.0 torchfile-0.1.0 torchnet-0.0.4 tqdm-4.40.1 visdom-0.1.8.9 websocket-client-0.57.0\n",
      "\u001b[33mYou are using pip version 9.0.1, however version 19.3.1 is available.\n",
      "You should consider upgrading via the 'pip install --upgrade pip' command.\u001b[0m\n",
      "mkdir: cannot create directory ‘data’: File exists\n"
     ]
    }
   ],
   "source": [
    "!pip install -r requirements.txt\n",
    "!mkdir data"
   ]
  },
  {
   "cell_type": "markdown",
   "metadata": {},
   "source": [
    "Downloading CIFAR10 and CIFAR100 datasets"
   ]
  },
  {
   "cell_type": "code",
   "execution_count": 2,
   "metadata": {},
   "outputs": [
    {
     "name": "stdout",
     "output_type": "stream",
     "text": [
      "Successfully download file cv-course-public/coding-1/cifar-10-python.tar.gz from OBS to local ./data/cifar-10-python.tar.gz\n",
      "Successfully download file cv-course-public/coding-1/cifar-100-python.tar.gz from OBS to local ./data/cifar-100-python.tar.gz\n"
     ]
    }
   ],
   "source": [
    "from dataset.dataset_dowloader_ import *\n",
    "\n",
    "cifar10_dowloader()\n",
    "cifar100_dowloader()\n"
   ]
  },
  {
   "cell_type": "markdown",
   "metadata": {},
   "source": [
    "## The basic training and testing pipeline\n",
    "\n",
    "* `class_values = [10, 100]` - define CIFAR10 & CIFAR100 datasets markers\n",
    "* `layer_values = [[3, 3, 3], [9, 9, 9], [18, 18, 18]]` - define ResNet20 & ResNet56 & ResNet110 models\n",
    "* `history_main_task = []` - define train/validation logs' container\n",
    "* `auto_resnet(layer_j, class_i, 1, 180, history_main_task)`:\n",
    "    * `layer_j` - iterate over ResNet20 & ResNet56 & ResNet110\n",
    "    * `class_i` - iterate over CIFAR10 & CIFAR100\n",
    "    * `1` - learning rate multiplier (base learning rate is 1*0.1)\n",
    "    * `180` - number of epochs"
   ]
  },
  {
   "cell_type": "code",
   "execution_count": 10,
   "metadata": {},
   "outputs": [
    {
     "name": "stdout",
     "output_type": "stream",
     "text": [
      "CPU times: user 15 µs, sys: 3 µs, total: 18 µs\n",
      "Wall time: 22.6 µs\n"
     ]
    }
   ],
   "source": [
    "%%time\n",
    "from auto_resnet import * \n",
    "\n",
    "class_values = [10, 100]\n",
    "layer_values = [[3, 3, 3], [9, 9, 9], [18, 18, 18]] # 20, 56, 110\n",
    "history_main_task = []\n",
    "\n",
    "for class_i in class_values:\n",
    "    for layer_j in layer_values:\n",
    "        auto_resnet(layer_j, class_i, 1, 180, history_main_task)"
   ]
  },
  {
   "cell_type": "markdown",
   "metadata": {},
   "source": [
    "## Plot results"
   ]
  },
  {
   "cell_type": "code",
   "execution_count": 11,
   "metadata": {},
   "outputs": [
    {
     "name": "stdout",
     "output_type": "stream",
     "text": [
      "The autoreload extension is already loaded. To reload it, use:\n",
      "  %reload_ext autoreload\n"
     ]
    },
    {
     "data": {
      "image/png": "[encoded data removed]",
      "text/plain": [
       "<Figure size 720x576 with 1 Axes>"
      ]
     },
     "metadata": {},
     "output_type": "display_data"
    },
    {
     "data": {
      "image/png": "[encoded data removed]",
      "text/plain": [
       "<Figure size 720x576 with 1 Axes>"
      ]
     },
     "metadata": {},
     "output_type": "display_data"
    },
    {
     "data": {
      "image/png": "[encoded data removed]",
      "text/plain": [
       "<Figure size 720x576 with 1 Axes>"
      ]
     },
     "metadata": {},
     "output_type": "display_data"
    },
    {
     "data": {
      "image/png": "[encoded data removed]",
      "text/plain": [
       "<Figure size 720x576 with 1 Axes>"
      ]
     },
     "metadata": {},
     "output_type": "display_data"
    },
    {
     "data": {
      "image/png": "[encoded data removed]",
      "text/plain": [
       "<Figure size 720x576 with 1 Axes>"
      ]
     },
     "metadata": {},
     "output_type": "display_data"
    }
   ],
   "source": [
    "import matplotlib.pyplot as plt\n",
    "\n",
    "%matplotlib inline\n",
    "plt.rcParams['figure.figsize'] = (10.0, 8.0) # set default size of plots\n",
    "plt.rcParams['image.interpolation'] = 'nearest'\n",
    "plt.rcParams['image.cmap'] = 'gray'\n",
    "\n",
    "%load_ext autoreload\n",
    "%autoreload 2\n",
    "\n",
    "legend = ['train_r20_c10', 'train_r56_c10', 'train_r110_c10', 'train_r20_c100', 'train_r56_c100', 'train_r110_c100']\n",
    "\n",
    "plt_different_history(history_main_task, legend)"
   ]
  },
  {
   "cell_type": "code",
   "execution_count": null,
   "metadata": {},
   "outputs": [],
   "source": []
  }
 ],
 "metadata": {
  "kernelspec": {
   "display_name": "Pytorch-1.0.0",
   "language": "python",
   "name": "pytorch-1.0.0"
  },
  "language_info": {
   "codemirror_mode": {
    "name": "ipython",
    "version": 3
   },
   "file_extension": ".py",
   "mimetype": "text/x-python",
   "name": "python",
   "nbconvert_exporter": "python",
   "pygments_lexer": "ipython3",
   "version": "3.6.4"
  },
  "pycharm": {
   "stem_cell": {
    "cell_type": "raw",
    "metadata": {
     "collapsed": false
    },
    "source": []
   }
  }
 },
 "nbformat": 4,
 "nbformat_minor": 2
}
