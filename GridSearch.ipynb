{
 "cells": [
  {
   "cell_type": "markdown",
   "metadata": {},
   "source": [
    "## Introduction to the Term Project\n",
    "\n",
    "* This project is to provide an opportunity for the students to make use of knowledge learned from this course (computer vision) and practice in real-world problems\n",
    "\n",
    "* Your project can go to any subfield(s) in computer vision, and we will not make any constraints in the selected topic\n",
    "\n",
    "* Idea is more important than solution: if you think that time is not sufficient to finish everything, that does not matter – but you need to persuade us that what you have done is promising – of course, a complete project is wonderful"
   ]
  },
  {
   "cell_type": "markdown",
   "metadata": {},
   "source": [
    "# Automated Deep Learning Design"
   ]
  },
  {
   "cell_type": "markdown",
   "metadata": {},
   "source": [
    "## Download CIFAR10 Dataset"
   ]
  },
  {
   "cell_type": "markdown",
   "metadata": {},
   "source": [
    "## Preparation\n",
    "One time installation of required libraries from requirement.txt and creating data path"
   ]
  },
  {
   "cell_type": "code",
   "execution_count": null,
   "metadata": {},
   "outputs": [],
   "source": [
    "!pip install torch==1.1.0 torchvision==0.2.0\n",
    "!pip install skorch\n",
    "!mkdir data"
   ]
  },
  {
   "cell_type": "code",
   "execution_count": null,
   "metadata": {},
   "outputs": [],
   "source": [
    "from modelarts.session import Session\n",
    "def cifar10_dowloader():\n",
    "    session = Session()\n",
    "    bucket_path=\"/cv-course-public/coding-1/cifar-10-python.tar.gz\"\n",
    "    session.download_data(bucket_path=bucket_path, path=\"./data/cifar-10-python.tar.gz\")\n",
    "cifar10_dowloader()"
   ]
  },
  {
   "cell_type": "code",
   "execution_count": null,
   "metadata": {},
   "outputs": [],
   "source": [
    "import numpy as np\n",
    "import torch\n",
    "import torch.nn as nn\n",
    "import torch.functional as F\n",
    "import torchvision\n",
    "from models.resnet import resnet20, resnet32, resnet56, resnet110\n",
    "from sklearn.pipeline import Pipeline\n",
    "from sklearn.preprocessing import StandardScaler\n",
    "from sklearn.model_selection import GridSearchCV, train_test_split\n",
    "from skorch import NeuralNetClassifier"
   ]
  },
  {
   "cell_type": "markdown",
   "metadata": {},
   "source": [
    "## Init train_set with CIFAR10"
   ]
  },
  {
   "cell_type": "code",
   "execution_count": null,
   "metadata": {},
   "outputs": [],
   "source": [
    "train_set = torchvision.datasets.cifar.CIFAR10('data/', train=True, download=True)"
   ]
  },
  {
   "cell_type": "markdown",
   "metadata": {},
   "source": [
    "## Init ResNet20 model"
   ]
  },
  {
   "cell_type": "code",
   "execution_count": null,
   "metadata": {},
   "outputs": [],
   "source": [
    "model = resnet20()"
   ]
  },
  {
   "cell_type": "markdown",
   "metadata": {},
   "source": [
    "## Set X & y as train data and train labels"
   ]
  },
  {
   "cell_type": "code",
   "execution_count": null,
   "metadata": {},
   "outputs": [],
   "source": [
    "X = (np.swapaxes(train_set.train_data, 1, 3)/255).astype('float32')\n",
    "y = np.array(train_set.train_labels).astype('int64')"
   ]
  },
  {
   "cell_type": "code",
   "execution_count": null,
   "metadata": {},
   "outputs": [],
   "source": [
    "X_train, X_test, y_train, y_test = train_test_split(X, y, train_size = 0.01)"
   ]
  },
  {
   "cell_type": "markdown",
   "metadata": {},
   "source": [
    "## Init CUDA device"
   ]
  },
  {
   "cell_type": "code",
   "execution_count": null,
   "metadata": {},
   "outputs": [],
   "source": [
    "device = torch.device('cuda:0')"
   ]
  },
  {
   "cell_type": "markdown",
   "metadata": {},
   "source": [
    "## Init NeuralNetClassifier as an interface under raw ResNet20 model with several init hyperparameters"
   ]
  },
  {
   "cell_type": "code",
   "execution_count": null,
   "metadata": {},
   "outputs": [],
   "source": [
    "net = NeuralNetClassifier(\n",
    "    module=resnet20,\n",
    "    max_epochs=3,\n",
    "    lr=0.01,\n",
    "    optimizer=torch.optim.SGD,\n",
    "#     optimizer__momentum=0.95,\n",
    "    device=device\n",
    ")"
   ]
  },
  {
   "cell_type": "code",
   "execution_count": null,
   "metadata": {},
   "outputs": [],
   "source": [
    "net.fit(X_train, y_train)"
   ]
  },
  {
   "cell_type": "markdown",
   "metadata": {},
   "source": [
    "## Init hyperparameters grid"
   ]
  },
  {
   "cell_type": "code",
   "execution_count": null,
   "metadata": {},
   "outputs": [],
   "source": [
    "params = {\n",
    "#     'module': [resnet20, resnet56, resnet110],\n",
    "#     'lr': [1e-1, 1e-1*2, 1e-1*5, 1e-1*10, 1e-1/2, 1e-1/5, 1e-1/10],\n",
    "#     'max_epochs': [20, 50, 100],\n",
    "    'max_epochs': [2, 4, 8, 16],\n",
    "    'optimizer': [torch.optim.Adam, torch.optim.SGD]\n",
    "}"
   ]
  },
  {
   "cell_type": "markdown",
   "metadata": {},
   "source": [
    "## Start Grid Search\n",
    "\n",
    "For some undefined for now reason Grid Search works not completely right.\n",
    "\n",
    "So it's still a great example for our research in hyperparameter tuning approaches."
   ]
  },
  {
   "cell_type": "code",
   "execution_count": null,
   "metadata": {
    "scrolled": true
   },
   "outputs": [],
   "source": [
    "gs = GridSearchCV(net, params, refit=False, cv=3, scoring='accuracy')\n",
    "gs.fit(X, y)"
   ]
  },
  {
   "cell_type": "markdown",
   "metadata": {},
   "source": [
    "## Print output heatmaps"
   ]
  },
  {
   "cell_type": "code",
   "execution_count": null,
   "metadata": {},
   "outputs": [],
   "source": [
    "import matplotlib.pyplot as plt\n",
    "plt.matshow(gs.cv_results_['mean_test_score'].reshape(-1, 2),\n",
    " vmin=0, cmap=\"viridis\")\n",
    "plt.xlabel(\"optimizer\")\n",
    "plt.ylabel(\"max_epochs\")\n",
    "plt.xticks(range(len(params['optimizer'])),\n",
    " params['optimizer'])\n",
    "plt.yticks(range(len(params['max_epochs'])),\n",
    " params['max_epochs'])\n",
    "plt.colorbar()"
   ]
  },
  {
   "cell_type": "code",
   "execution_count": null,
   "metadata": {},
   "outputs": [],
   "source": []
  }
 ],
 "metadata": {
  "kernelspec": {
   "display_name": "Pytorch-1.0.0",
   "language": "python",
   "name": "pytorch-1.0.0"
  },
  "language_info": {
   "codemirror_mode": {
    "name": "ipython",
    "version": 3
   },
   "file_extension": ".py",
   "mimetype": "text/x-python",
   "name": "python",
   "nbconvert_exporter": "python",
   "pygments_lexer": "ipython3",
   "version": "3.6.4"
  }
 },
 "nbformat": 4,
 "nbformat_minor": 2
}
